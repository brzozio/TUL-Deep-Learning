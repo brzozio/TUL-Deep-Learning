{
 "cells": [
  {
   "cell_type": "code",
   "execution_count": null,
   "metadata": {},
   "outputs": [],
   "source": [
    "import pandas as pd\n",
    "import os\n",
    "import numpy as np\n",
    "import random\n",
    "\n",
    "base_path : str = os.path.dirname(os.getcwd())\n",
    "CSV_PATH  : str = base_path + '\\\\csv'\n",
    "SRC_PATH  : str = base_path + '\\\\src'\n",
    "JSON_PATH : str = base_path + '\\\\json'"
   ]
  }
 ],
 "metadata": {
  "language_info": {
   "name": "python"
  }
 },
 "nbformat": 4,
 "nbformat_minor": 2
}
